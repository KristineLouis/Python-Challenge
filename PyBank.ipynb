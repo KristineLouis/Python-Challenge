{
 "cells": [
  {
   "cell_type": "code",
   "execution_count": null,
   "id": "35e0ba99-5be4-4d6c-8f92-f9ca3264d7b4",
   "metadata": {},
   "outputs": [],
   "source": [
    "import csv\n",
    "\n",
    "# Initialize variables to store the results\n",
    "months = 0\n",
    "net_profit = 0\n",
    "profit_changes = []\n",
    "greatest_increase = [\"\", 0]\n",
    "greatest_decrease = [\"\", 9999999999999999999]\n",
    "\n",
    "# Open the CSV file\n",
    "with open('budget_data.csv') as csvfile:\n",
    "    reader = csv.DictReader(csvfile)\n",
    "\n",
    "    # Loop through the rows in the CSV\n",
    "    for row in reader:\n",
    "        # Increment the number of months\n",
    "        months += 1\n",
    "        \n",
    "        # Add to the net profit\n",
    "        net_profit += int(row[\"Profit/Losses\"])\n",
    "        \n",
    "        # Calculate the change in profit from the previous row\n",
    "        if months > 1:\n",
    "            profit_change = int(row[\"Profit/Losses\"]) - int(prev_profit)\n",
    "            profit_changes.append(profit_change)\n",
    "            \n",
    "            # Check if this is the greatest increase or decrease\n",
    "            if profit_change > greatest_increase[1]:\n",
    "                greatest_increase[0] = row[\"Date\"]\n",
    "                greatest_increase[1] = profit_change\n",
    "            if profit_change < greatest_decrease[1]:\n",
    "                greatest_decrease[0] = row[\"Date\"]\n",
    "                greatest_decrease[1] = profit_change\n",
    "        \n",
    "        # Store the current row's profit for the next iteration\n",
    "        prev_profit = int(row[\"Profit/Losses\"])\n",
    "\n",
    "# Calculate the average change in profit\n",
    "avg_change = sum(profit_changes) / len(profit_changes)\n",
    "\n",
    "# Print the results\n",
    "print(\"Financial Analysis\")\n",
    "print(\"----------------------------\")\n",
    "print(f\"Total Months: {months}\")\n",
    "print(f\"Total: ${net_profit}\")\n",
    "print(f\"Average Change: ${avg_change:.2f}\")\n",
    "print(f\"Greatest Increase in Profits: {greatest_increase[0]} (${greatest_increase[1]})\")\n",
    "print(f\"Greatest Decrease in Profits: {greatest_decrease[0]} (${greatest_decrease[1]})\")"
   ]
  }
 ],
 "metadata": {
  "kernelspec": {
   "display_name": "anaconda-2022.05-py39",
   "language": "python",
   "name": "conda-env-anaconda-2022.05-py39-py"
  },
  "language_info": {
   "codemirror_mode": {
    "name": "ipython",
    "version": 3
   },
   "file_extension": ".py",
   "mimetype": "text/x-python",
   "name": "python",
   "nbconvert_exporter": "python",
   "pygments_lexer": "ipython3",
   "version": "3.9.12"
  }
 },
 "nbformat": 4,
 "nbformat_minor": 5
}
